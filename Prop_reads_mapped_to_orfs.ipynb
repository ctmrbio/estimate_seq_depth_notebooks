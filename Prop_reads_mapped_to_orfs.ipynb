{
 "cells": [
  {
   "cell_type": "markdown",
   "metadata": {},
   "source": [
    "# Proportion of reads mapping back to ORFs"
   ]
  },
  {
   "cell_type": "code",
   "execution_count": 118,
   "metadata": {},
   "outputs": [],
   "source": [
    "%matplotlib inline\n",
    "from glob import glob\n",
    "import matplotlib as mpl\n",
    "import matplotlib.pyplot as plt\n",
    "import matplotlib.patches as mpatches\n",
    "import numpy as np\n",
    "import pandas as pd"
   ]
  },
  {
   "cell_type": "code",
   "execution_count": 119,
   "metadata": {},
   "outputs": [],
   "source": [
    "def parse_mapped_read_stats(rpkm):\n",
    "    \"\"\"\n",
    "    Parse BBMap RPKM output file for basic mapping stats.\n",
    "    \"\"\"\n",
    "    with open(rpkm) as f:\n",
    "        reads_file = f.readline().strip().split()[1]\n",
    "        reads = int(f.readline().strip().split()[1])\n",
    "        mapped = int(f.readline().strip().split()[1])\n",
    "        refseqs = int(f.readline().strip().split()[1])\n",
    "        return reads_file, reads, mapped, refseqs               "
   ]
  },
  {
   "cell_type": "code",
   "execution_count": 120,
   "metadata": {},
   "outputs": [
    {
     "data": {
      "text/html": [
       "<div>\n",
       "<style>\n",
       "    .dataframe thead tr:only-child th {\n",
       "        text-align: right;\n",
       "    }\n",
       "\n",
       "    .dataframe thead th {\n",
       "        text-align: left;\n",
       "    }\n",
       "\n",
       "    .dataframe tbody tr th {\n",
       "        vertical-align: top;\n",
       "    }\n",
       "</style>\n",
       "<table border=\"1\" class=\"dataframe\">\n",
       "  <thead>\n",
       "    <tr style=\"text-align: right;\">\n",
       "      <th></th>\n",
       "      <th>Reads_file</th>\n",
       "      <th>Reads</th>\n",
       "      <th>Mapped_reads</th>\n",
       "      <th>Refseqs</th>\n",
       "    </tr>\n",
       "  </thead>\n",
       "  <tbody>\n",
       "    <tr>\n",
       "      <th>0</th>\n",
       "      <td>biopsy_10000reads_1rep_1.fastq.gz</td>\n",
       "      <td>20000</td>\n",
       "      <td>45</td>\n",
       "      <td>19</td>\n",
       "    </tr>\n",
       "    <tr>\n",
       "      <th>1</th>\n",
       "      <td>saliva_100000reads_3rep_1.fastq.gz</td>\n",
       "      <td>200000</td>\n",
       "      <td>8071</td>\n",
       "      <td>1580</td>\n",
       "    </tr>\n",
       "    <tr>\n",
       "      <th>2</th>\n",
       "      <td>faeces_1000000reads_3rep_1.fastq.gz</td>\n",
       "      <td>2000000</td>\n",
       "      <td>1009241</td>\n",
       "      <td>61714</td>\n",
       "    </tr>\n",
       "    <tr>\n",
       "      <th>3</th>\n",
       "      <td>vag_10000reads_3rep_1.fastq.gz</td>\n",
       "      <td>20000</td>\n",
       "      <td>49</td>\n",
       "      <td>15</td>\n",
       "    </tr>\n",
       "    <tr>\n",
       "      <th>4</th>\n",
       "      <td>vag_10000000reads_2rep_1.fastq.gz</td>\n",
       "      <td>20000000</td>\n",
       "      <td>14267618</td>\n",
       "      <td>169647</td>\n",
       "    </tr>\n",
       "  </tbody>\n",
       "</table>\n",
       "</div>"
      ],
      "text/plain": [
       "                            Reads_file     Reads  Mapped_reads  Refseqs\n",
       "0    biopsy_10000reads_1rep_1.fastq.gz     20000            45       19\n",
       "1   saliva_100000reads_3rep_1.fastq.gz    200000          8071     1580\n",
       "2  faeces_1000000reads_3rep_1.fastq.gz   2000000       1009241    61714\n",
       "3       vag_10000reads_3rep_1.fastq.gz     20000            49       15\n",
       "4    vag_10000000reads_2rep_1.fastq.gz  20000000      14267618   169647"
      ]
     },
     "execution_count": 120,
     "metadata": {},
     "output_type": "execute_result"
    }
   ],
   "source": [
    "rpkm_files = glob(\"/home/ctmr/projects/labcore/seq_depth/nextflow_output/metagenemark_contigs/*rpkm*\")\n",
    "mapped_read_stats = [parse_mapped_read_stats(fn) for fn in rpkm_files]\n",
    "stats = pd.DataFrame(mapped_read_stats, columns=[\"Reads_file\", \"Reads\", \"Mapped_reads\", \"Refseqs\"])\n",
    "stats.head()"
   ]
  },
  {
   "cell_type": "code",
   "execution_count": 121,
   "metadata": {},
   "outputs": [],
   "source": [
    "stats[\"Proportion\"] = stats[\"Mapped_reads\"] / stats[\"Reads\"]\n",
    "stats[\"Sample_type\"] = stats[\"Reads_file\"].str.split(\"_\", expand=True)[0]"
   ]
  },
  {
   "cell_type": "code",
   "execution_count": 171,
   "metadata": {},
   "outputs": [],
   "source": [
    "sample_type_color = {st: idx for idx, st in enumerate(set(stats[\"Sample_type\"]))}\n",
    "cmap = plt.cm.get_cmap('viridis', 4)\n",
    "colors = [cmap(sample_type_color[st]) for st in stats[\"Sample_type\"]]"
   ]
  },
  {
   "cell_type": "code",
   "execution_count": 173,
   "metadata": {},
   "outputs": [
    {
     "data": {
      "image/png": "[encoded data removed]",
      "text/plain": [
       "<matplotlib.figure.Figure at 0x7ff7b1e5d240>"
      ]
     },
     "metadata": {},
     "output_type": "display_data"
    }
   ],
   "source": [
    "fig, ax = plt.subplots(figsize=(10,7))\n",
    "stats.plot.scatter(x=\"Reads\", y=\"Proportion\", ax=ax, c=colors, s=6**2, alpha=0.75, logy=True, logx=True)\n",
    "_ = ax.set_title(\"Proportion reads mapped back to ORFs\")\n",
    "_ = ax.set_xlabel(\"Reads\")\n",
    "_ = ax.set_ylabel(\"Proportion mapped reads\")\n",
    "_ = ax.set_yticklabels([\"{:3.2f}%\".format(y*100) for y in ax.get_yticks()])\n",
    "\n",
    "patches = [mpatches.Patch(color=cmap(sample_type_color[st]), label=st) for st in set(stats[\"Sample_type\"])]\n",
    "ax.legend(handles=patches)\n",
    "\n",
    "fig.savefig(\"tigrfam_assembled_orfs/Proportion_reads_mapped_to_ORFs.png\")\n",
    "fig.savefig(\"tigrfam_assembled_orfs/Proportion_reads_mapped_to_ORFs.pdf\")"
   ]
  },
  {
   "cell_type": "code",
   "execution_count": null,
   "metadata": {},
   "outputs": [],
   "source": []
  }
 ],
 "metadata": {
  "kernelspec": {
   "display_name": "Python 3",
   "language": "python",
   "name": "python3"
  },
  "language_info": {
   "codemirror_mode": {
    "name": "ipython",
    "version": 3
   },
   "file_extension": ".py",
   "mimetype": "text/x-python",
   "name": "python",
   "nbconvert_exporter": "python",
   "pygments_lexer": "ipython3",
   "version": "3.6.1"
  }
 },
 "nbformat": 4,
 "nbformat_minor": 2
}
