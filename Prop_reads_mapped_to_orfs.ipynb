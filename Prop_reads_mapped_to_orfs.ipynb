{
 "cells": [
  {
   "cell_type": "markdown",
   "metadata": {},
   "source": [
    "# Proportion of reads mapping back to ORFs"
   ]
  },
  {
   "cell_type": "code",
   "execution_count": 7,
   "metadata": {},
   "outputs": [],
   "source": [
    "%matplotlib inline\n",
    "from glob import glob\n",
    "import matplotlib as mpl\n",
    "import matplotlib.pyplot as plt\n",
    "import numpy as np\n",
    "import pandas as pd"
   ]
  },
  {
   "cell_type": "code",
   "execution_count": 6,
   "metadata": {},
   "outputs": [],
   "source": [
    "def parse_mapped_read_stats(rpkm):\n",
    "    \"\"\"\n",
    "    Parse BBMap RPKM output file for basic mapping stats.\n",
    "    \"\"\"\n",
    "    with open(rpkm) as f:\n",
    "        reads_file = f.readline().strip().split()[1]\n",
    "        reads = int(f.readline().strip().split()[1])\n",
    "        mapped = int(f.readline().strip().split()[1])\n",
    "        refseqs = int(f.readline().strip().split()[1])\n",
    "        return reads_file, reads, mapped, refseqs               "
   ]
  },
  {
   "cell_type": "code",
   "execution_count": 14,
   "metadata": {},
   "outputs": [],
   "source": [
    "rpkm_files = glob(\"/home/ctmr/projects/labcore/seq_depth/nextflow_output/metagenemark_contigs/*rpkm*\")\n",
    "mapped_read_stats = [parse_mapped_read_stats(fn) for fn in rpkm_files]\n",
    "stats = pd.DataFrame(mapped_read_stats, columns=[\"Reads_file\", \"Reads\", \"Mapped_reads\", \"Refseqs\"])"
   ]
  },
  {
   "cell_type": "code",
   "execution_count": 35,
   "metadata": {},
   "outputs": [],
   "source": [
    "stats[\"Proportion\"] = stats[\"Mapped_reads\"] / stats[\"Reads\"]\n",
    "stats[\"Sample_type\"] = stats[\"Reads_file\"].str.split(\"_\", expand=True)[0]"
   ]
  },
  {
   "cell_type": "code",
   "execution_count": 98,
   "metadata": {},
   "outputs": [],
   "source": [
    "sample_type_color = {st: idx for idx, st in enumerate(set(stats[\"Sample_type\"]))}\n",
    "colors = [sample_type_color[st] for st in stats[\"Sample_type\"]]\n",
    "cmap = plt.cm.get_cmap('viridis', 4)"
   ]
  },
  {
   "cell_type": "code",
   "execution_count": 127,
   "metadata": {},
   "outputs": [
    {
     "data": {
      "image/png": "[encoded data removed]",
      "text/plain": [
       "<matplotlib.figure.Figure at 0x7f753cabbd68>"
      ]
     },
     "metadata": {},
     "output_type": "display_data"
    }
   ],
   "source": [
    "fig, ax = plt.subplots(figsize=(10,7))\n",
    "stats.plot.scatter(x=\"Reads\", y=\"Proportion\", ax=ax, c=colors, cmap=cmap, alpha=0.5, logy=True, logx=True)\n",
    "_ = ax.set_title(\"Proportion reads mapped back to ORFs\")\n",
    "_ = ax.set_xlabel(\"Reads\")\n",
    "_ = ax.set_ylabel(\"Proportion mapped reads\")\n",
    "_ = ax.set_yticklabels([\"{:3.2f}%\".format(y*100) for y in ax.get_yticks()])"
   ]
  },
  {
   "cell_type": "code",
   "execution_count": null,
   "metadata": {},
   "outputs": [],
   "source": []
  }
 ],
 "metadata": {
  "kernelspec": {
   "display_name": "Python 3",
   "language": "python",
   "name": "python3"
  },
  "language_info": {
   "codemirror_mode": {
    "name": "ipython",
    "version": 3
   },
   "file_extension": ".py",
   "mimetype": "text/x-python",
   "name": "python",
   "nbconvert_exporter": "python",
   "pygments_lexer": "ipython3",
   "version": "3.6.1"
  }
 },
 "nbformat": 4,
 "nbformat_minor": 2
}
